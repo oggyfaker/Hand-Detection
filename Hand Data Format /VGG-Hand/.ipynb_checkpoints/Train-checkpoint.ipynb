{
 "cells": [
  {
   "cell_type": "code",
   "execution_count": 16,
   "metadata": {},
   "outputs": [
    {
     "data": {
      "text/plain": [
       "['Poselet_318.jpg',\n",
       " 'VOC2010_724.jpg',\n",
       " 'Inria_429.jpg',\n",
       " 'VOC2010_730.jpg',\n",
       " 'Inria_367.jpg',\n",
       " 'Poselet_324.jpg',\n",
       " 'VOC2010_718.jpg',\n",
       " 'Skin_194.jpg',\n",
       " 'Inria_401.jpg',\n",
       " 'Inria_415.jpg']"
      ]
     },
     "execution_count": 16,
     "metadata": {},
     "output_type": "execute_result"
    }
   ],
   "source": [
    "import os\n",
    "\n",
    "path = \"Dataset/training_dataset/training_data/images\"\n",
    "\n",
    "# files = [f for f in glob.glob(path + \"/.mat\", recursive=True)]\n",
    "file = os.listdir(path)\n",
    "file[:10]"
   ]
  },
  {
   "cell_type": "code",
   "execution_count": 2,
   "metadata": {
    "scrolled": false
   },
   "outputs": [],
   "source": [
    "# for item in file:\n",
    "#     item = item.replace(\".jpg\",\"\")\n",
    "#     print(item)"
   ]
  },
  {
   "cell_type": "code",
   "execution_count": 2,
   "metadata": {},
   "outputs": [],
   "source": [
    "dataset = {}\n",
    "dataset['info'] = {} \n",
    "dataset['info'][\"contributor\"] = \"Vin-AI Lab\"\n",
    "dataset['info'][\"date_created\"] = '4/5/2020' \n",
    "dataset['info'][\"description\"] = \"Hand-Dataset\" \n",
    "dataset['info'][\"url\"] = \"https://github.com/oggyfaker\"\n",
    "dataset['info'][\"Version\"] = \"1.0\"\n",
    "dataset['info'][\"year\"] = \"2020\""
   ]
  },
  {
   "cell_type": "code",
   "execution_count": 3,
   "metadata": {},
   "outputs": [
    {
     "name": "stdout",
     "output_type": "stream",
     "text": [
      "[{'id': 1, 'name': 'VinAi Lab', 'url': 'https://github.com/oggyfaker'}]\n"
     ]
    }
   ],
   "source": [
    "license = {} \n",
    "license['id'] = 1 \n",
    "license['name'] = \"VinAi Lab\"\n",
    "license['url'] = \"https://github.com/oggyfaker\"\n",
    "\n",
    "dataset[\"licenses\"] = []\n",
    "dataset[\"licenses\"].append(license)\n",
    "print(dataset[\"licenses\"])"
   ]
  },
  {
   "cell_type": "code",
   "execution_count": 4,
   "metadata": {},
   "outputs": [],
   "source": [
    "# Create dictionary of name and height and weight\n",
    "import cv2\n",
    "image_dict = {}\n",
    "for image_item in file:\n",
    "    if \".jpg\" in image_item:\n",
    "        im = cv2.imread(path +\"/\" +image_item)\n",
    "        h, w, c = im.shape\n",
    "        image_dict[image_item] = [w,h]"
   ]
  },
  {
   "cell_type": "code",
   "execution_count": 6,
   "metadata": {},
   "outputs": [],
   "source": [
    "# Images\n",
    "dataset['image'] = []\n",
    "for i,image_name in enumerate(image_dict):\n",
    "    dict_tmp = {}\n",
    "    dict_tmp['file_name'] = image_name\n",
    "    dict_tmp['width'] ,dict_tmp['height'] = image_dict[image_name]\n",
    "    dict_tmp[\"id\"] = i \n",
    "    dict_tmp['license'] = 1\n",
    "    dict_tmp[\"flickr_url\"] = \"\"\n",
    "    dict_tmp[\"coco_url\"] = \"\"\n",
    "    dict_tmp[\"date_captured\"] = \"4/5/2020\"\n",
    "    dataset['image'].append(dict_tmp)\n"
   ]
  },
  {
   "cell_type": "code",
   "execution_count": 7,
   "metadata": {},
   "outputs": [],
   "source": [
    "# Category \n",
    "dict_temp_cat = {}\n",
    "dict_temp_cat['id'] = 1 \n",
    "dict_temp_cat['name'] = \"Hand\"\n",
    "dict_temp_cat[\"supercategory\"] = \"Body\"\n",
    "\n",
    "dataset['categories'] = []\n",
    "dataset['categories'].append(dict_temp_cat)"
   ]
  },
  {
   "cell_type": "code",
   "execution_count": 8,
   "metadata": {},
   "outputs": [],
   "source": [
    "# !pip install mat4py"
   ]
  },
  {
   "cell_type": "code",
   "execution_count": 9,
   "metadata": {},
   "outputs": [
    {
     "name": "stdout",
     "output_type": "stream",
     "text": [
      "Done!!! \n"
     ]
    }
   ],
   "source": [
    "from mat4py import loadmat\n",
    "#-----------------------------------------------\n",
    "# xmin = d2 ; xmax = b2 | ymin = a1 , ymax = c1 |\n",
    "#-----------------------------------------------\n",
    "# Error = []\n",
    "dataset['annotation'] = []\n",
    "count_id = 0\n",
    "for item_image in file:\n",
    "#     flag_saved = False\n",
    "    if \".jpg\" in item_image:\n",
    "        file_math = item_image.replace(\".jpg\",\".mat\")\n",
    "        data = loadmat('Dataset/training_dataset/training_data/annotations/'+ file_math)\n",
    "    \n",
    "        # Có trường hợp bbox chỉ có 1 object == dict : nên cần chuyển sang list chứa dict đó \n",
    "        if type(data['boxes']) == dict:\n",
    "            data['boxes']= [data['boxes']]\n",
    "        \n",
    "        #Check number object \n",
    "        if len(data['boxes']) == 1: \n",
    "            iscrowd = 0\n",
    "        elif len(data['boxes']) > 1:\n",
    "            iscrowd = 1\n",
    "        else:\n",
    "            print(\"ko có annotation\")\n",
    "            break \n",
    "    \n",
    "        # Get id image \n",
    "        for image in dataset['image']:\n",
    "            if image['file_name'] == item_image:\n",
    "                id_image = image['id']\n",
    "                break \n",
    "        # Get box\n",
    "        for box in data['boxes']:\n",
    "            xmin = box['d'][1]\n",
    "            xmax = box['b'][1]\n",
    "            ymin = box['a'][0]\n",
    "            ymax = box['c'][0]\n",
    "            # Change to CoCo \n",
    "            width = xmax - xmin \n",
    "            height = ymax - ymin \n",
    "            \n",
    "            dict_anotate_temp = {}\n",
    "            dict_anotate_temp['id'] = count_id\n",
    "            count_id += 1 \n",
    "            dict_anotate_temp[\"category_id\"] = 1 \n",
    "            dict_anotate_temp[\"image_id\"] = id_image\n",
    "            dict_anotate_temp[\"iscrowd\"] = iscrowd\n",
    "            dict_anotate_temp[\"segmentation\"] = [[]]\n",
    "            dict_anotate_temp[\"area\"] = width *  height\n",
    "            dict_anotate_temp[\"bbox\"] = [xmin,ymin,width,height]\n",
    "        \n",
    "            dataset['annotation'].append(dict_anotate_temp)\n",
    "print(\"Done!!! \")\n",
    "    "
   ]
  },
  {
   "cell_type": "code",
   "execution_count": 12,
   "metadata": {},
   "outputs": [],
   "source": [
    "# dataset"
   ]
  },
  {
   "cell_type": "code",
   "execution_count": 14,
   "metadata": {},
   "outputs": [
    {
     "name": "stdout",
     "output_type": "stream",
     "text": [
      "Baseline.ipynb    \u001b[34mDataset\u001b[m\u001b[m/          \u001b[34mResult Json\u001b[m\u001b[m/      Validation.ipynb\r\n",
      "Check.ipynb       \u001b[34mResult Image\u001b[m\u001b[m/     Train.ipynb\r\n"
     ]
    }
   ],
   "source": [
    "ls"
   ]
  },
  {
   "cell_type": "code",
   "execution_count": 15,
   "metadata": {},
   "outputs": [],
   "source": [
    "import json\n",
    "with open(\"Result Json/detection_train2020.json\", \"w\") as outfile: \n",
    "    json.dump(dataset, outfile) "
   ]
  },
  {
   "cell_type": "code",
   "execution_count": null,
   "metadata": {},
   "outputs": [],
   "source": []
  }
 ],
 "metadata": {
  "kernelspec": {
   "display_name": "Python 3",
   "language": "python",
   "name": "python3"
  },
  "language_info": {
   "codemirror_mode": {
    "name": "ipython",
    "version": 3
   },
   "file_extension": ".py",
   "mimetype": "text/x-python",
   "name": "python",
   "nbconvert_exporter": "python",
   "pygments_lexer": "ipython3",
   "version": "3.6.10"
  }
 },
 "nbformat": 4,
 "nbformat_minor": 4
}
