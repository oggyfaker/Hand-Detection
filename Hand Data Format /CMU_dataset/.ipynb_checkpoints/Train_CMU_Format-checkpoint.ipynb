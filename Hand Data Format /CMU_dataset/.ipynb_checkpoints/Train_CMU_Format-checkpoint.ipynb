{
 "cells": [
  {
   "cell_type": "code",
   "execution_count": 1,
   "metadata": {},
   "outputs": [],
   "source": [
    "import json"
   ]
  },
  {
   "cell_type": "code",
   "execution_count": 9,
   "metadata": {},
   "outputs": [
    {
     "name": "stdout",
     "output_type": "stream",
     "text": [
      "1911\n",
      "1912\n"
     ]
    }
   ],
   "source": [
    "import os \n",
    "import cv2\n",
    "# %pylab inline\n",
    "import matplotlib.pyplot as plt\n",
    "import matplotlib.image as mpimg\n",
    "\n",
    "path = '/Users/deepmind/Desktop/hand_labels/manual_train/'\n",
    "list_json = [file for file in os.listdir(path) if \".json\" in file]\n",
    "print(int(len(list_json)*80/100) + round(len(list_json)*20/100) )\n",
    "print(len(list_json))\n",
    "# for i,file_json in enumerate(list_json):\n",
    "#     f = open(path+file_json)\n",
    "#     annotation = json.load(f)\n",
    "#     point = annotation['hand_pts']\n",
    "# #     print(file_json)\n",
    "    \n",
    "#     # Get all point x and y \n",
    "#     x_list = [tick[0] for tick in point]\n",
    "#     y_list = [tick[1] for tick in point]\n",
    "    \n",
    "#     x_min = min(x_list)\n",
    "#     x_max = max(x_list)\n",
    "\n",
    "#     y_min = min(y_list)\n",
    "#     y_max = max(y_list)\n",
    "    \n",
    "# #     center_x , center_y = annotation['hand_box_center']\n",
    "#     file_image = file_json.replace('.json','.jpg')\n",
    "#     img = mpimg.imread(path+file_image)\n",
    "    \n",
    "#     cv2.rectangle(img, (int(x_min-10), int(y_min-16)), (int(x_max+10), int(y_max)+10), color=(0, 255, 0), thickness =1)\n",
    "#     name_name = '/Users/deepmind/Desktop/hand_labels/output_check/'+str(i)+'.png'\n",
    "#     cv2.imwrite(name_name,img)\n",
    "# #     plt.figure(figsize=(12, 12))\n",
    "# #     plt.imshow(img)\n",
    "    \n",
    "\n",
    "    \n",
    "    "
   ]
  },
  {
   "cell_type": "markdown",
   "metadata": {},
   "source": [
    "# Insert to VinAI CoCo"
   ]
  },
  {
   "cell_type": "code",
   "execution_count": 5,
   "metadata": {},
   "outputs": [
    {
     "name": "stdout",
     "output_type": "stream",
     "text": [
      "{'info': {'contributor': 'Vin-AI Lab', 'date_created': '4/5/2020', 'description': 'Hand-Dataset', 'url': 'https://github.com/oggyfaker', 'Version': '1.0', 'year': '2020'}, 'licenses': [{'id': 1, 'name': 'VinAi Lab', 'url': 'https://github.com/oggyfaker'}]}\n"
     ]
    }
   ],
   "source": [
    "dataset = {}\n",
    "dataset['info'] = {} \n",
    "dataset['info'][\"contributor\"] = \"Vin-AI Lab\"\n",
    "dataset['info'][\"date_created\"] = '4/5/2020' \n",
    "dataset['info'][\"description\"] = \"Hand-Dataset\" \n",
    "dataset['info'][\"url\"] = \"https://github.com/oggyfaker\"\n",
    "dataset['info'][\"Version\"] = \"1.0\"\n",
    "dataset['info'][\"year\"] = \"2020\"\n",
    "\n",
    "\n",
    "license = {} \n",
    "license['id'] = 1 \n",
    "license['name'] = \"VinAi Lab\"\n",
    "license['url'] = \"https://github.com/oggyfaker\"\n",
    "dataset[\"licenses\"] = []\n",
    "dataset[\"licenses\"].append(license)\n",
    "print(dataset)\n",
    "\n"
   ]
  },
  {
   "cell_type": "code",
   "execution_count": 11,
   "metadata": {},
   "outputs": [],
   "source": [
    "# Create dictionary of name and height and weight\n",
    "path = '/Users/deepmind/Desktop/hand_labels/manual_train/'\n",
    "list_image = [file for file in os.listdir(path) if \".jpg\" in file]\n",
    "\n",
    "import cv2\n",
    "image_dict = {}\n",
    "for image_item in list_image:\n",
    "    h, w, c  = (cv2.imread(path+image_item)).shape\n",
    "    image_dict[image_item] = [w,h]"
   ]
  },
  {
   "cell_type": "code",
   "execution_count": 15,
   "metadata": {},
   "outputs": [],
   "source": [
    "dataset['image'] = []\n",
    "for i,image_name in enumerate(image_dict):\n",
    "    dict_tmp = {}\n",
    "    dict_tmp['file_name'] = image_name\n",
    "    dict_tmp['width'] ,dict_tmp['height'] = image_dict[image_name]\n",
    "    dict_tmp[\"id\"] = i \n",
    "    dict_tmp['license'] = 1\n",
    "    dict_tmp[\"flickr_url\"] = \"\"\n",
    "    dict_tmp[\"coco_url\"] = \"\"\n",
    "    dict_tmp[\"date_captured\"] = \"15/5/2020\"\n",
    "    dataset['image'].append(dict_tmp)"
   ]
  },
  {
   "cell_type": "code",
   "execution_count": 16,
   "metadata": {},
   "outputs": [
    {
     "data": {
      "text/plain": [
       "{'file_name': '064868295_01_l.jpg',\n",
       " 'width': 1280,\n",
       " 'height': 720,\n",
       " 'id': 0,\n",
       " 'license': 1,\n",
       " 'flickr_url': '',\n",
       " 'coco_url': '',\n",
       " 'date_captured': '15/5/2020'}"
      ]
     },
     "execution_count": 16,
     "metadata": {},
     "output_type": "execute_result"
    }
   ],
   "source": [
    "dataset['image'][0]"
   ]
  },
  {
   "cell_type": "code",
   "execution_count": 17,
   "metadata": {},
   "outputs": [
    {
     "data": {
      "text/plain": [
       "[{'id': 1, 'name': 'Hand', 'supercategory': 'Body'}]"
      ]
     },
     "execution_count": 17,
     "metadata": {},
     "output_type": "execute_result"
    }
   ],
   "source": [
    "# Category \n",
    "dict_temp_cat = {}\n",
    "dict_temp_cat['id'] = 1 \n",
    "dict_temp_cat['name'] = \"hand\"\n",
    "dict_temp_cat[\"supercategory\"] = \"Body\"\n",
    "\n",
    "dataset['categories'] = []\n",
    "dataset['categories'].append(dict_temp_cat)\n",
    "\n",
    "dataset['categories']"
   ]
  },
  {
   "cell_type": "code",
   "execution_count": 21,
   "metadata": {},
   "outputs": [],
   "source": [
    "dataset['annotation'] = []\n",
    "count_id = 0\n",
    "\n",
    "for item_image in list_image:\n",
    "    if \".jpg\" in item_image:\n",
    "        file_json = item_image.replace(\".jpg\",\".json\")\n",
    "#         data = loadmat('../hand_dataset/training_dataset/training_data/annotations/'+ file_math)\n",
    "        f = open(path+file_json)\n",
    "        annotation = json.load(f)\n",
    "        point = annotation['hand_pts']\n",
    "        \n",
    "        x_list = [tick[0] for tick in point]\n",
    "        y_list = [tick[1] for tick in point]\n",
    "    \n",
    "        x_min = min(x_list)\n",
    "        x_max = max(x_list)\n",
    "\n",
    "        y_min = min(y_list)\n",
    "        y_max = max(y_list)\n",
    "        \n",
    "        width = x_max - x_min \n",
    "        height = y_max - y_min \n",
    "        \n",
    "        dict_anotate_temp = {}\n",
    "        dict_anotate_temp['id'] = count_id\n",
    "        count_id += 1 \n",
    "        # 1 == hand \n",
    "        dict_anotate_temp[\"category_id\"] = 1 \n",
    "        \n",
    "        for image in dataset['image']:\n",
    "            if image['file_name'] == item_image:\n",
    "                id_image = image['id']\n",
    "                break \n",
    "                \n",
    "        dict_anotate_temp[\"image_id\"] = id_image\n",
    "        dict_anotate_temp[\"iscrowd\"] = 0\n",
    "        dict_anotate_temp[\"segmentation\"] = [[]]\n",
    "        dict_anotate_temp[\"area\"] = width *  height\n",
    "        dict_anotate_temp[\"bbox\"] = [x_min,y_min,width,height]"
   ]
  },
  {
   "cell_type": "code",
   "execution_count": 22,
   "metadata": {},
   "outputs": [],
   "source": [
    "import json\n",
    "with open(\"detectionCMU_train2020.json\", \"w\") as outfile: \n",
    "    json.dump(dataset, outfile)\n",
    "    "
   ]
  },
  {
   "cell_type": "code",
   "execution_count": null,
   "metadata": {},
   "outputs": [],
   "source": []
  }
 ],
 "metadata": {
  "kernelspec": {
   "display_name": "Python 3",
   "language": "python",
   "name": "python3"
  },
  "language_info": {
   "codemirror_mode": {
    "name": "ipython",
    "version": 3
   },
   "file_extension": ".py",
   "mimetype": "text/x-python",
   "name": "python",
   "nbconvert_exporter": "python",
   "pygments_lexer": "ipython3",
   "version": "3.6.10"
  }
 },
 "nbformat": 4,
 "nbformat_minor": 4
}
