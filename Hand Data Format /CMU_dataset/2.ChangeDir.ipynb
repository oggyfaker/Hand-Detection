{
 "cells": [
  {
   "cell_type": "code",
   "execution_count": 1,
   "metadata": {},
   "outputs": [],
   "source": [
    "import os \n",
    "file = os.listdir(\"./val\")\n",
    "file_image = [item for item in file if \".jpg\" in item]\n",
    "file_json = [item for item in file if \".json\" in item]\n",
    "\n",
    "from shutil import copyfile\n",
    "for image in file_image:\n",
    "    copyfile(\"./val/\"+image, \"./val/image/\"+image)\n",
    "for json in file_json:\n",
    "    copyfile(\"./val/\"+json, \"./val/annotation/\"+json)"
   ]
  },
  {
   "cell_type": "code",
   "execution_count": 2,
   "metadata": {},
   "outputs": [],
   "source": [
    "file = os.listdir(\"./train\")\n",
    "file_image = [item for item in file if \".jpg\" in item]\n",
    "file_json = [item for item in file if \".json\" in item]\n",
    "\n",
    "from shutil import copyfile\n",
    "for image in file_image:\n",
    "    copyfile(\"./train/\"+image, \"./train/image/\"+image)\n",
    "for json in file_json:\n",
    "    copyfile(\"./train/\"+json, \"./train/annotation/\"+json)"
   ]
  },
  {
   "cell_type": "code",
   "execution_count": 2,
   "metadata": {},
   "outputs": [],
   "source": [
    "import os\n",
    "file = os.listdir(\"./manual_test\")\n",
    "file_image = [item for item in file if \".jpg\" in item]\n",
    "file_json = [item for item in file if \".json\" in item]\n",
    "\n",
    "from shutil import copyfile\n",
    "for image in file_image:\n",
    "    copyfile(\"./manual_test/\"+image, \"./test/image/\"+image)\n",
    "for json in file_json:\n",
    "    copyfile(\"./manual_test/\"+json, \"./test/annotation/\"+json)"
   ]
  },
  {
   "cell_type": "code",
   "execution_count": 12,
   "metadata": {},
   "outputs": [],
   "source": []
  },
  {
   "cell_type": "code",
   "execution_count": null,
   "metadata": {},
   "outputs": [],
   "source": []
  }
 ],
 "metadata": {
  "kernelspec": {
   "display_name": "Python 3",
   "language": "python",
   "name": "python3"
  },
  "language_info": {
   "codemirror_mode": {
    "name": "ipython",
    "version": 3
   },
   "file_extension": ".py",
   "mimetype": "text/x-python",
   "name": "python",
   "nbconvert_exporter": "python",
   "pygments_lexer": "ipython3",
   "version": "3.6.10"
  }
 },
 "nbformat": 4,
 "nbformat_minor": 4
}
