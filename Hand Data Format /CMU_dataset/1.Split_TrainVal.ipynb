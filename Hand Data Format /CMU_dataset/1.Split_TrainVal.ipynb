{
 "cells": [
  {
   "cell_type": "code",
   "execution_count": 21,
   "metadata": {},
   "outputs": [
    {
     "name": "stdout",
     "output_type": "stream",
     "text": [
      "1530\n"
     ]
    }
   ],
   "source": [
    "import os \n",
    "\n",
    "# Split data training\n",
    "file =[item.replace(\".json\",\"\") for item in os.listdir(\"./manual_train\") if \".json\" in item]\n",
    "\n",
    "file_train = file[:round(int(len(file) * 80)/100)]\n",
    "file_val = file[round(int(len(file) * 80)/100):]\n",
    "print(len(file_train))"
   ]
  },
  {
   "cell_type": "code",
   "execution_count": 22,
   "metadata": {},
   "outputs": [],
   "source": [
    "from shutil import copyfile\n",
    "for item in file_train:\n",
    "    copyfile(\"./manual_train/\"+item+\".jpg\" , \"./train/\"+item+\".jpg\")\n",
    "    copyfile(\"./manual_train/\"+item+\".json\" , \"./train/\"+item+\".json\")"
   ]
  },
  {
   "cell_type": "code",
   "execution_count": 25,
   "metadata": {},
   "outputs": [],
   "source": [
    "for item2 in file_val:\n",
    "    copyfile(\"./manual_train/\"+item2+\".jpg\" , \"./val/\"+item2+\".jpg\")\n",
    "    copyfile(\"./manual_train/\"+item2+\".json\" , \"./val/\"+item2+\".json\")"
   ]
  },
  {
   "cell_type": "code",
   "execution_count": null,
   "metadata": {},
   "outputs": [],
   "source": []
  }
 ],
 "metadata": {
  "kernelspec": {
   "display_name": "Python 3",
   "language": "python",
   "name": "python3"
  },
  "language_info": {
   "codemirror_mode": {
    "name": "ipython",
    "version": 3
   },
   "file_extension": ".py",
   "mimetype": "text/x-python",
   "name": "python",
   "nbconvert_exporter": "python",
   "pygments_lexer": "ipython3",
   "version": "3.6.10"
  }
 },
 "nbformat": 4,
 "nbformat_minor": 4
}
